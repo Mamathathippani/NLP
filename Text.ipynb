{
  "cells": [
    {
      "cell_type": "code",
      "execution_count": 2,
      "metadata": {
        "id": "7H_aJAqBWCWO"
      },
      "outputs": [],
      "source": [
        "import os\n",
        "import pandas as pd\n",
        "import numpy as np\n",
        "from sklearn.model_selection import train_test_split\n",
        "from sklearn.metrics import accuracy_score, f1_score\n",
        "from tensorflow.keras.preprocessing.text import Tokenizer\n",
        "from tensorflow.keras.preprocessing.sequence import pad_sequences\n",
        "from tensorflow.keras.models import Sequential\n",
        "from tensorflow.keras.layers import Embedding, LSTM, Dense, Bidirectional, SimpleRNN\n",
        "from transformers import BertTokenizer, TFBertForSequenceClassification\n",
        "from nltk.translate.bleu_score import sentence_bleu\n",
        "import matplotlib.pyplot as plt\n",
        "import tensorflow as tf"
      ]
    },
    {
      "cell_type": "code",
      "execution_count": 3,
      "metadata": {
        "id": "uI32NfVnWCTf"
      },
      "outputs": [],
      "source": [
        "# Load text files from a folder\n",
        "def load_text_files(folder_path):\n",
        "    texts = []\n",
        "    for file_name in os.listdir(folder_path):\n",
        "        with open(os.path.join(folder_path, file_name), 'r', encoding='utf-8') as file:\n",
        "            texts.append(file.read().strip())\n",
        "    return texts\n",
        "\n",
        "# Load train.csv and folders\n",
        "train_df = pd.read_csv('train.csv', on_bad_lines='skip', quoting=3)\n",
        "train_csv_texts = train_df['discourse_text'].dropna().tolist()\n",
        "train_folder_texts = load_text_files('train')\n",
        "test_folder_texts = load_text_files('test')\n",
        "\n",
        "# Combine data\n",
        "all_train_texts = train_csv_texts + train_folder_texts\n",
        "all_test_texts = test_folder_texts\n",
        "\n",
        "# Tokenize texts\n",
        "tokenizer = Tokenizer(num_words=10000)\n",
        "tokenizer.fit_on_texts(all_train_texts)\n",
        "train_sequences = tokenizer.texts_to_sequences(all_train_texts)\n",
        "test_sequences = tokenizer.texts_to_sequences(all_test_texts)\n",
        "\n",
        "# Pad sequences\n",
        "max_length = 100\n",
        "X_train = pad_sequences(train_sequences, maxlen=max_length, padding='post')\n",
        "X_test = pad_sequences(test_sequences, maxlen=max_length, padding='post')\n",
        "vocab_size = len(tokenizer.word_index) + 1\n",
        "\n",
        "# Prepare target sequences\n",
        "y_train = np.expand_dims(X_train[:, 1:], axis=-1)  # Target is input shifted by one\n",
        "X_train = X_train[:, :-1]\n",
        "y_test = np.expand_dims(X_test[:, 1:], axis=-1)\n",
        "X_test = X_test[:, :-1]"
      ]
    },
    {
      "cell_type": "code",
      "execution_count": 4,
      "metadata": {
        "colab": {
          "base_uri": "https://localhost:8080/",
          "height": 0
        },
        "id": "XbtMQ7F4WCRn",
        "outputId": "b19cd8c0-2dcf-44e8-cc3c-406e0690bb8e"
      },
      "outputs": [
        {
          "output_type": "stream",
          "name": "stderr",
          "text": [
            "/usr/local/lib/python3.10/dist-packages/keras/src/layers/core/embedding.py:90: UserWarning: Argument `input_length` is deprecated. Just remove it.\n",
            "  warnings.warn(\n"
          ]
        },
        {
          "output_type": "stream",
          "name": "stdout",
          "text": [
            "Epoch 1/5\n",
            "\u001b[1m1009/1009\u001b[0m \u001b[32m━━━━━━━━━━━━━━━━━━━━\u001b[0m\u001b[37m\u001b[0m \u001b[1m264s\u001b[0m 257ms/step - accuracy: 0.7744 - loss: 2.1634 - val_accuracy: 0.8177 - val_loss: 1.0794\n",
            "Epoch 2/5\n",
            "\u001b[1m1009/1009\u001b[0m \u001b[32m━━━━━━━━━━━━━━━━━━━━\u001b[0m\u001b[37m\u001b[0m \u001b[1m267s\u001b[0m 264ms/step - accuracy: 0.8496 - loss: 0.8705 - val_accuracy: 0.9049 - val_loss: 0.5948\n",
            "Epoch 3/5\n",
            "\u001b[1m1009/1009\u001b[0m \u001b[32m━━━━━━━━━━━━━━━━━━━━\u001b[0m\u001b[37m\u001b[0m \u001b[1m266s\u001b[0m 264ms/step - accuracy: 0.9276 - loss: 0.4427 - val_accuracy: 0.9484 - val_loss: 0.3377\n",
            "Epoch 4/5\n",
            "\u001b[1m1009/1009\u001b[0m \u001b[32m━━━━━━━━━━━━━━━━━━━━\u001b[0m\u001b[37m\u001b[0m \u001b[1m267s\u001b[0m 265ms/step - accuracy: 0.9636 - loss: 0.2324 - val_accuracy: 0.9686 - val_loss: 0.2079\n",
            "Epoch 5/5\n",
            "\u001b[1m1009/1009\u001b[0m \u001b[32m━━━━━━━━━━━━━━━━━━━━\u001b[0m\u001b[37m\u001b[0m \u001b[1m311s\u001b[0m 254ms/step - accuracy: 0.9807 - loss: 0.1271 - val_accuracy: 0.9802 - val_loss: 0.1359\n",
            "\u001b[1m1/1\u001b[0m \u001b[32m━━━━━━━━━━━━━━━━━━━━\u001b[0m\u001b[37m\u001b[0m \u001b[1m0s\u001b[0m 65ms/step - accuracy: 0.8384 - loss: 1.1047\n",
            "LSTM Accuracy: 0.8384\n"
          ]
        }
      ],
      "source": [
        "# LSTM Model\n",
        "lstm_model = Sequential([\n",
        "    Embedding(input_dim=vocab_size, output_dim=100, input_length=max_length - 1),\n",
        "    Bidirectional(LSTM(128, return_sequences=True)),\n",
        "    Dense(vocab_size, activation='softmax')\n",
        "])\n",
        "\n",
        "lstm_model.compile(loss='sparse_categorical_crossentropy', optimizer='adam', metrics=['accuracy'])\n",
        "\n",
        "# Train LSTM\n",
        "lstm_model.fit(X_train, y_train, epochs=5, batch_size=64, validation_split=0.2)\n",
        "\n",
        "# Evaluate LSTM\n",
        "lstm_loss, lstm_accuracy = lstm_model.evaluate(X_test, y_test)\n",
        "print(f\"LSTM Accuracy: {lstm_accuracy:.4f}\")"
      ]
    },
    {
      "cell_type": "code",
      "execution_count": 5,
      "metadata": {
        "colab": {
          "base_uri": "https://localhost:8080/",
          "height": 0
        },
        "id": "7z5vQtaOWCPh",
        "outputId": "bc235248-0efa-4ae1-a648-2b720929777c"
      },
      "outputs": [
        {
          "output_type": "stream",
          "name": "stdout",
          "text": [
            "Epoch 1/5\n",
            "\u001b[1m1009/1009\u001b[0m \u001b[32m━━━━━━━━━━━━━━━━━━━━\u001b[0m\u001b[37m\u001b[0m \u001b[1m109s\u001b[0m 102ms/step - accuracy: 0.7656 - loss: 2.5096 - val_accuracy: 0.7976 - val_loss: 1.2571\n",
            "Epoch 2/5\n",
            "\u001b[1m1009/1009\u001b[0m \u001b[32m━━━━━━━━━━━━━━━━━━━━\u001b[0m\u001b[37m\u001b[0m \u001b[1m133s\u001b[0m 98ms/step - accuracy: 0.8037 - loss: 1.1838 - val_accuracy: 0.8138 - val_loss: 1.1306\n",
            "Epoch 3/5\n",
            "\u001b[1m1009/1009\u001b[0m \u001b[32m━━━━━━━━━━━━━━━━━━━━\u001b[0m\u001b[37m\u001b[0m \u001b[1m99s\u001b[0m 98ms/step - accuracy: 0.8210 - loss: 1.0499 - val_accuracy: 0.8176 - val_loss: 1.0714\n",
            "Epoch 4/5\n",
            "\u001b[1m1009/1009\u001b[0m \u001b[32m━━━━━━━━━━━━━━━━━━━━\u001b[0m\u001b[37m\u001b[0m \u001b[1m144s\u001b[0m 100ms/step - accuracy: 0.8277 - loss: 0.9793 - val_accuracy: 0.8202 - val_loss: 1.0447\n",
            "Epoch 5/5\n",
            "\u001b[1m1009/1009\u001b[0m \u001b[32m━━━━━━━━━━━━━━━━━━━━\u001b[0m\u001b[37m\u001b[0m \u001b[1m142s\u001b[0m 100ms/step - accuracy: 0.8288 - loss: 0.9543 - val_accuracy: 0.8212 - val_loss: 1.0297\n",
            "\u001b[1m1/1\u001b[0m \u001b[32m━━━━━━━━━━━━━━━━━━━━\u001b[0m\u001b[37m\u001b[0m \u001b[1m1s\u001b[0m 1s/step - accuracy: 0.1071 - loss: 5.7454\n",
            "RNN Accuracy: 0.1071\n"
          ]
        }
      ],
      "source": [
        "  # RNN Model\n",
        "rnn_model = Sequential([\n",
        "    Embedding(input_dim=vocab_size, output_dim=100, input_length=max_length - 1),\n",
        "    SimpleRNN(128, return_sequences=True),\n",
        "    Dense(vocab_size, activation='softmax')\n",
        "])\n",
        "\n",
        "rnn_model.compile(loss='sparse_categorical_crossentropy', optimizer='adam', metrics=['accuracy'])\n",
        "\n",
        "# Train RNN\n",
        "rnn_model.fit(X_train, y_train, epochs=5, batch_size=64, validation_split=0.2)\n",
        "\n",
        "# Evaluate RNN\n",
        "rnn_loss, rnn_accuracy = rnn_model.evaluate(X_test, y_test)\n",
        "print(f\"RNN Accuracy: {rnn_accuracy:.4f}\")"
      ]
    },
    {
      "cell_type": "code",
      "execution_count": 7,
      "metadata": {
        "colab": {
          "base_uri": "https://localhost:8080/",
          "height": 0
        },
        "id": "2mJZepchW2Jx",
        "outputId": "d6d2e5be-bb64-406f-8823-d493765cef31"
      },
      "outputs": [
        {
          "output_type": "stream",
          "name": "stdout",
          "text": [
            "Enter a sentence: I love playing soccer in the park with my friends.\n",
            "Augmented with LSTM: love playing soccer in the classroom with my friends\n",
            "Augmented with RNN: think to sports school school a friends\n"
          ]
        }
      ],
      "source": [
        "# Function to augment input sentence\n",
        "def augment_sentence(input_sentence, model, tokenizer, max_length):\n",
        "    input_sequence = tokenizer.texts_to_sequences([input_sentence])\n",
        "    input_sequence = pad_sequences(input_sequence, maxlen=max_length - 1, padding='post')\n",
        "\n",
        "    # Generate predictions\n",
        "    predictions = model.predict(input_sequence, verbose=0)\n",
        "    predicted_sequence = np.argmax(predictions, axis=-1)[0]\n",
        "\n",
        "    # Convert back to words\n",
        "    augmented_sentence = ' '.join([tokenizer.index_word.get(idx, '') for idx in predicted_sequence if idx != 0])\n",
        "    return augmented_sentence\n",
        "\n",
        "# Example usage\n",
        "input_sentence = input(\"Enter a sentence: \")\n",
        "print(\"Augmented with LSTM:\", augment_sentence(input_sentence, lstm_model, tokenizer, max_length))\n",
        "print(\"Augmented with RNN:\", augment_sentence(input_sentence, rnn_model, tokenizer, max_length))"
      ]
    },
    {
      "cell_type": "code",
      "execution_count": 9,
      "metadata": {
        "id": "nHyp4UHRW50p",
        "colab": {
          "base_uri": "https://localhost:8080/",
          "height": 524
        },
        "outputId": "f155f5dc-1f32-443c-cb34-30971d0b3721"
      },
      "outputs": [
        {
          "output_type": "stream",
          "name": "stdout",
          "text": [
            "\u001b[1m1/1\u001b[0m \u001b[32m━━━━━━━━━━━━━━━━━━━━\u001b[0m\u001b[37m\u001b[0m \u001b[1m0s\u001b[0m 28ms/step\n",
            "\u001b[1m1/1\u001b[0m \u001b[32m━━━━━━━━━━━━━━━━━━━━\u001b[0m\u001b[37m\u001b[0m \u001b[1m0s\u001b[0m 30ms/step\n",
            "LSTM BLEU Score: 0.5848765580596493\n",
            "RNN BLEU Score: 3.4573743523446733e-155\n"
          ]
        },
        {
          "output_type": "display_data",
          "data": {
            "text/plain": [
              "<Figure size 640x480 with 1 Axes>"
            ],
            "image/png": "[encoded data removed]"
          },
          "metadata": {}
        }
      ],
      "source": [
        "# Helper for BLEU Score\n",
        "def calculate_bleu(reference, candidate):\n",
        "    return sentence_bleu([reference], candidate)\n",
        "\n",
        "# BLEU Scores\n",
        "lstm_bleu = calculate_bleu(X_test[0], np.argmax(lstm_model.predict(X_test[:1]), axis=-1)[0])\n",
        "rnn_bleu = calculate_bleu(X_test[0], np.argmax(rnn_model.predict(X_test[:1]), axis=-1)[0])\n",
        "\n",
        "# Metrics\n",
        "print(f\"LSTM BLEU Score: {lstm_bleu}\")\n",
        "print(f\"RNN BLEU Score: {rnn_bleu}\")\n",
        "\n",
        "# Plot Metrics\n",
        "models = ['LSTM', 'RNN']\n",
        "accuracies = [lstm_accuracy, rnn_accuracy]\n",
        "plt.bar(models, accuracies, color=['blue', 'green'])\n",
        "plt.title('Model Accuracy Comparison')\n",
        "plt.ylabel('Accuracy')\n",
        "plt.show()"
      ]
    },
    {
      "cell_type": "code",
      "source": [],
      "metadata": {
        "id": "tVRwzRQZQuF6"
      },
      "execution_count": null,
      "outputs": []
    }
  ],
  "metadata": {
    "accelerator": "GPU",
    "colab": {
      "gpuType": "T4",
      "provenance": []
    },
    "kernelspec": {
      "display_name": "Python 3",
      "name": "python3"
    },
    "language_info": {
      "name": "python"
    }
  },
  "nbformat": 4,
  "nbformat_minor": 0
}